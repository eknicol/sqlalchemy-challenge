%matplotlib inline
from matplotlib import style
style.use('fivethirtyeight')
import matplotlib.pyplot as plt



import numpy as np
import pandas as pd
import datetime as dt
from datetime import timedelta






# Python SQL toolkit and Object Relational Mapper
import sqlalchemy
from sqlalchemy.ext.automap import automap_base
from sqlalchemy.orm import Session
from sqlalchemy import create_engine, func



# Create engine using the `hawaii.sqlite` database file
engine = create_engine("sqlite:///../Resources/hawaii.sqlite")



# Declare a Base using `automap_base()`
Base = automap_base()
# Use the Base class to reflect the database tables
Base.prepare(autoload_with=engine, reflect=True)



# Print all of the classes mapped to the Base

Base.classes.keys()


# Assign the measurement class to a variable called `Measurement` and
# assign the station class to a variable called `Station`
Measurement = Base.classes.measurement
Station = Base.classes.station


# Create a session
session = Session(engine)





# Find the most recent date in the data set.
# Query to find the most recent date in the dataset
most_recent_date = session.query(Measurement.date).order_by(Measurement.date.desc()).first()

# Print the most recent date
print(f"The most recent date in the dataset is: {most_recent_date[0]}")


# Design a query to retrieve the last 12 months of precipitation data and plot the results.
# Starting from the most recent data point in the database.
most_recent_date = '2016-08-23'

# Calculate the date one year from the last date in data set.
date_12_months_ago = dt.date(2016, 4, 23) - dt.timedelta(days=365)
date_12_months_ago
# Perform a query to retrieve the data and precipitation scores


# Save the query results as a Pandas DataFrame. Explicitly set the column names


# Sort the dataframe by date


# Use Pandas Plotting with Matplotlib to plot the data



# Use Pandas to calculate the summary statistics for the precipitation data






# Design a query to calculate the total number of stations in the dataset



# Design a query to find the most active stations (i.e. which stations have the most rows?)
# List the stations and their counts in descending order.



# Using the most active station id from the previous query, calculate the lowest, highest, and average temperature.



# Using the most active station id
# Query the last 12 months of temperature observation data for this station and plot the results as a histogram






# Close Session
session.close()




